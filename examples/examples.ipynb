{
 "cells": [
  {
   "cell_type": "code",
   "execution_count": 1,
   "metadata": {},
   "outputs": [],
   "source": [
    "%load_ext autoreload\n",
    "%autoreload 2"
   ]
  },
  {
   "cell_type": "code",
   "execution_count": 2,
   "metadata": {},
   "outputs": [],
   "source": [
    "import os\n",
    "txt = os.getcwd()\n",
    "txt = txt.split(\"/\")[:-1]\n",
    "parent_path = \"/\".join(txt)\n",
    "os.chdir(parent_path)"
   ]
  },
  {
   "cell_type": "code",
   "execution_count": 3,
   "metadata": {},
   "outputs": [],
   "source": [
    "import json\n",
    "\n",
    "from query import Query"
   ]
  },
  {
   "cell_type": "markdown",
   "metadata": {},
   "source": [
    "# Load examples"
   ]
  },
  {
   "cell_type": "code",
   "execution_count": 4,
   "metadata": {},
   "outputs": [],
   "source": [
    "with open('examples/configs/config_url.json') as json_file:\n",
    "    configs = json.load(json_file)"
   ]
  },
  {
   "cell_type": "markdown",
   "metadata": {},
   "source": [
    "# Initialize Query"
   ]
  },
  {
   "cell_type": "code",
   "execution_count": 5,
   "metadata": {},
   "outputs": [],
   "source": [
    "service_base_url = 'http://hapi.fhir.org/baseR4/'\n",
    "capabilitystatement_path = 'examples/CapabilityStatement/full_CapabilityStatement.json'"
   ]
  },
  {
   "cell_type": "markdown",
   "metadata": {},
   "source": [
    "# Example 1"
   ]
  },
  {
   "cell_type": "code",
   "execution_count": 6,
   "metadata": {},
   "outputs": [],
   "source": [
    "indice = 1"
   ]
  },
  {
   "cell_type": "code",
   "execution_count": 7,
   "metadata": {},
   "outputs": [
    {
     "output_type": "execute_result",
     "data": {
      "text/plain": "'Select the gender and name for patients born after 2000'"
     },
     "metadata": {},
     "execution_count": 7
    }
   ],
   "source": [
    "configs[indice]['question']"
   ]
  },
  {
   "cell_type": "code",
   "execution_count": 8,
   "metadata": {},
   "outputs": [
    {
     "output_type": "execute_result",
     "data": {
      "text/plain": "'http://hapi.fhir.org/baseR4/Patient?birthdate=gt2000-01-01&_format=json'"
     },
     "metadata": {},
     "execution_count": 8
    }
   ],
   "source": [
    "query = Query(service_base_url,capabilitystatement_path)\n",
    "query.from_config(configs[indice]['config'])\n",
    "query.api_url"
   ]
  },
  {
   "cell_type": "code",
   "execution_count": 9,
   "metadata": {},
   "outputs": [
    {
     "output_type": "execute_result",
     "data": {
      "text/plain": "'Patient?birthdate=>2000-01-01'"
     },
     "metadata": {},
     "execution_count": 9
    }
   ],
   "source": [
    "configs[indice]['url']"
   ]
  },
  {
   "cell_type": "code",
   "execution_count": 10,
   "metadata": {},
   "outputs": [
    {
     "output_type": "execute_result",
     "data": {
      "text/plain": "'And some local treatment to extract `patient.gender` and `patient.name.given`, using http://objectpath.org/'"
     },
     "metadata": {},
     "execution_count": 10
    }
   ],
   "source": [
    "configs[indice]['comment']"
   ]
  },
  {
   "cell_type": "markdown",
   "metadata": {},
   "source": [
    "# Example 2"
   ]
  },
  {
   "cell_type": "code",
   "execution_count": 11,
   "metadata": {},
   "outputs": [],
   "source": [
    "indice = 2"
   ]
  },
  {
   "cell_type": "code",
   "execution_count": 12,
   "metadata": {},
   "outputs": [
    {
     "output_type": "execute_result",
     "data": {
      "text/plain": "'Get the pressure measures of patients born after 1970, together with their gender and birthdate'"
     },
     "metadata": {},
     "execution_count": 12
    }
   ],
   "source": [
    "configs[indice]['question']"
   ]
  },
  {
   "cell_type": "code",
   "execution_count": 13,
   "metadata": {},
   "outputs": [
    {
     "output_type": "execute_result",
     "data": {
      "text/plain": "'http://hapi.fhir.org/baseR4/Patient?birthdate=gt1970&_has:Observation:subject:code=http://loinc.org|55284-4&_revinclude=Observation:subject:Patient&_format=json'"
     },
     "metadata": {},
     "execution_count": 13
    }
   ],
   "source": [
    "query = Query(service_base_url,capabilitystatement_path)\n",
    "query.from_config(configs[indice]['config'])\n",
    "query.api_url"
   ]
  },
  {
   "cell_type": "code",
   "execution_count": 14,
   "metadata": {},
   "outputs": [
    {
     "output_type": "execute_result",
     "data": {
      "text/plain": "'http://hapi.fhir.org/baseR4/Observation?subject:Patient.birthdate=gt1970&code=http://loinc.org|55284-4&_include=Observation:subject'"
     },
     "metadata": {},
     "execution_count": 14
    }
   ],
   "source": [
    "configs[indice]['url']"
   ]
  },
  {
   "cell_type": "code",
   "execution_count": 15,
   "metadata": {},
   "outputs": [
    {
     "output_type": "execute_result",
     "data": {
      "text/plain": "'And some local treatment to:\\n- Bind in the response bundle the Patients with the Observation.subject references\\n- extract `observation.component.valueQuantity.value`, `observation.subject.birthdate`, `observation.subject.gender`'"
     },
     "metadata": {},
     "execution_count": 15
    }
   ],
   "source": [
    "configs[indice]['comment']"
   ]
  },
  {
   "cell_type": "markdown",
   "metadata": {},
   "source": [
    "# Example 3"
   ]
  },
  {
   "cell_type": "code",
   "execution_count": 16,
   "metadata": {},
   "outputs": [],
   "source": [
    "indice = 3"
   ]
  },
  {
   "cell_type": "code",
   "execution_count": 17,
   "metadata": {},
   "outputs": [
    {
     "output_type": "execute_result",
     "data": {
      "text/plain": "'Get the number of patients currently having a Outpatient Kenacort injection because of Unicornate uterus'"
     },
     "metadata": {},
     "execution_count": 17
    }
   ],
   "source": [
    "configs[indice]['question']"
   ]
  },
  {
   "cell_type": "code",
   "execution_count": 18,
   "metadata": {},
   "outputs": [
    {
     "output_type": "execute_result",
     "data": {
      "text/plain": "'http://hapi.fhir.org/baseR4/Encounter?type=OKI&reason-code=1372004&status=in-progress&_include=Encounter:subject:Patient&_format=json'"
     },
     "metadata": {},
     "execution_count": 18
    }
   ],
   "source": [
    "query = Query(service_base_url,capabilitystatement_path)\n",
    "query.from_config(configs[indice]['config'])\n",
    "query.api_url"
   ]
  },
  {
   "cell_type": "code",
   "execution_count": 19,
   "metadata": {},
   "outputs": [
    {
     "output_type": "execute_result",
     "data": {
      "text/plain": "'http://hapi.fhir.org/baseR4/Encounter?type=OKI&status=in-progress&reason-code=1372004&_include=Encounter:subject'"
     },
     "metadata": {},
     "execution_count": 19
    }
   ],
   "source": [
    "configs[indice]['url']"
   ]
  },
  {
   "cell_type": "code",
   "execution_count": 20,
   "metadata": {},
   "outputs": [
    {
     "output_type": "execute_result",
     "data": {
      "text/plain": "'post-processing to count'"
     },
     "metadata": {},
     "execution_count": 20
    }
   ],
   "source": [
    "configs[indice]['comment']"
   ]
  },
  {
   "cell_type": "markdown",
   "metadata": {},
   "source": [
    "# Example 4"
   ]
  },
  {
   "cell_type": "code",
   "execution_count": 21,
   "metadata": {},
   "outputs": [],
   "source": [
    "indice = 4"
   ]
  },
  {
   "cell_type": "code",
   "execution_count": 22,
   "metadata": {},
   "outputs": [
    {
     "output_type": "execute_result",
     "data": {
      "text/plain": "'Get clinical information about patients who had a general examination because of Coronavirus'"
     },
     "metadata": {},
     "execution_count": 22
    }
   ],
   "source": [
    "configs[indice]['question']"
   ]
  },
  {
   "cell_type": "code",
   "execution_count": 23,
   "metadata": {},
   "outputs": [
    {
     "output_type": "execute_result",
     "data": {
      "text/plain": "'http://hapi.fhir.org/baseR4/Encounter?type=162673000&reason-code=840546002&status=finished&_include=Encounter:subject:Patient&_revinclude=Condition:encounter:Encounter&_format=json'"
     },
     "metadata": {},
     "execution_count": 23
    }
   ],
   "source": [
    "query = Query(service_base_url,capabilitystatement_path)\n",
    "query.from_config(configs[indice]['config'])\n",
    "query.api_url"
   ]
  },
  {
   "cell_type": "code",
   "execution_count": 24,
   "metadata": {},
   "outputs": [
    {
     "output_type": "execute_result",
     "data": {
      "text/plain": "'http://hapi.fhir.org/baseR4/Condition?encounter:Encounter.type=162673000&encounter:Encounter.reason-code=840546002&encounter:Encounter.status=finished&_include=Condition:encounter&_include:iterate=Encounter:subject'"
     },
     "metadata": {},
     "execution_count": 24
    }
   ],
   "source": [
    "configs[indice]['url']"
   ]
  },
  {
   "cell_type": "code",
   "execution_count": 25,
   "metadata": {},
   "outputs": [
    {
     "output_type": "execute_result",
     "data": {
      "text/plain": "'And some local treatment to:\\n- Bind in the response bundle the Patients with the Encounter.subject references and the Encounters with the Condition.encounter references.\\n- extract `condition.code.coding.system, condition.code.coding.code, condition.code.coding.display, condition.encounter.period.start, conditi\\nencounter.period.end, condition.encounter.diagnosis, condition.encounter.patient.birthdate, condition.encounter.patient.gender, conditi\\nencounter.patient.deceasedBoolean`\\n_Note that because Condition also references the Patient subject, `_include:iterate` could also be replaced with `_include` and Condition wouuld left joining directly Encounter + Patient._'"
     },
     "metadata": {},
     "execution_count": 25
    }
   ],
   "source": [
    "configs[indice]['comment']"
   ]
  },
  {
   "cell_type": "markdown",
   "metadata": {},
   "source": [
    "# Example 5"
   ]
  },
  {
   "cell_type": "code",
   "execution_count": 26,
   "metadata": {},
   "outputs": [],
   "source": [
    "indice = 5"
   ]
  },
  {
   "cell_type": "code",
   "execution_count": 27,
   "metadata": {},
   "outputs": [
    {
     "output_type": "execute_result",
     "data": {
      "text/plain": "'Get the given name of patients who had a a general examination referenced by the code 162673000 of http://snomed.info/sct system'"
     },
     "metadata": {},
     "execution_count": 27
    }
   ],
   "source": [
    "configs[indice]['question']"
   ]
  },
  {
   "cell_type": "code",
   "execution_count": 28,
   "metadata": {},
   "outputs": [
    {
     "output_type": "execute_result",
     "data": {
      "text/plain": "'http://hapi.fhir.org/baseR4/Encounter?type=http://snomed.info/sct|162673000&status=finished&_include=Encounter:subject:Patient&_format=json'"
     },
     "metadata": {},
     "execution_count": 28
    }
   ],
   "source": [
    "query = Query(service_base_url,capabilitystatement_path)\n",
    "query.from_config(configs[indice]['config'])\n",
    "query.api_url"
   ]
  },
  {
   "cell_type": "code",
   "execution_count": 29,
   "metadata": {},
   "outputs": [
    {
     "output_type": "execute_result",
     "data": {
      "text/plain": "'Patient?_has:Encounter:subject:type=http://snomed.info/sct|162673000&_has:Encounter:subject:status=finished'"
     },
     "metadata": {},
     "execution_count": 29
    }
   ],
   "source": [
    "configs[indice]['url']"
   ]
  },
  {
   "cell_type": "code",
   "execution_count": 30,
   "metadata": {},
   "outputs": [
    {
     "output_type": "execute_result",
     "data": {
      "text/plain": "'select patient.name.given'"
     },
     "metadata": {},
     "execution_count": 30
    }
   ],
   "source": [
    "configs[indice]['comment']"
   ]
  },
  {
   "cell_type": "markdown",
   "metadata": {},
   "source": [
    "# Example 6"
   ]
  },
  {
   "cell_type": "code",
   "execution_count": 31,
   "metadata": {},
   "outputs": [],
   "source": [
    "indice = 6"
   ]
  },
  {
   "cell_type": "code",
   "execution_count": 32,
   "metadata": {},
   "outputs": [
    {
     "output_type": "execute_result",
     "data": {
      "text/plain": "'Get the given name of patients who had a a general examination referenced by the code 162673000 '"
     },
     "metadata": {},
     "execution_count": 32
    }
   ],
   "source": [
    "configs[indice]['question']"
   ]
  },
  {
   "cell_type": "code",
   "execution_count": 33,
   "metadata": {},
   "outputs": [
    {
     "output_type": "execute_result",
     "data": {
      "text/plain": "'http://hapi.fhir.org/baseR4/Encounter?type=162673000&status=finished&_include=Encounter:subject:Patient&_format=json'"
     },
     "metadata": {},
     "execution_count": 33
    }
   ],
   "source": [
    "query = Query(service_base_url,capabilitystatement_path)\n",
    "query.from_config(configs[indice]['config'])\n",
    "query.api_url"
   ]
  },
  {
   "cell_type": "code",
   "execution_count": 34,
   "metadata": {},
   "outputs": [
    {
     "output_type": "execute_result",
     "data": {
      "text/plain": "'Patient?_has:Encounter:subject:type=162673000&_has:Encounter:subject:status=finished'"
     },
     "metadata": {},
     "execution_count": 34
    }
   ],
   "source": [
    "configs[indice]['url']"
   ]
  },
  {
   "cell_type": "code",
   "execution_count": 35,
   "metadata": {},
   "outputs": [
    {
     "output_type": "execute_result",
     "data": {
      "text/plain": "'select patient.name.given'"
     },
     "metadata": {},
     "execution_count": 35
    }
   ],
   "source": [
    "configs[indice]['comment']"
   ]
  },
  {
   "cell_type": "markdown",
   "metadata": {},
   "source": [
    "# Example 8"
   ]
  },
  {
   "cell_type": "code",
   "execution_count": 36,
   "metadata": {},
   "outputs": [],
   "source": [
    "indice = 8"
   ]
  },
  {
   "cell_type": "code",
   "execution_count": 37,
   "metadata": {},
   "outputs": [
    {
     "output_type": "execute_result",
     "data": {
      "text/plain": "'Get the blood pressure systolic and diastolic measure, along with the gender and birthdate of patients born after 1970 (include)'"
     },
     "metadata": {},
     "execution_count": 37
    }
   ],
   "source": [
    "configs[indice]['question']"
   ]
  },
  {
   "cell_type": "code",
   "execution_count": 38,
   "metadata": {},
   "outputs": [
    {
     "output_type": "execute_result",
     "data": {
      "text/plain": "'http://hapi.fhir.org/baseR4/Patient?birthdate=ge1970&_has:Observation:subject:code=http://loinc.org|55284-4&_revinclude=Observation:subject:Patient&_format=json'"
     },
     "metadata": {},
     "execution_count": 38
    }
   ],
   "source": [
    "query = Query(service_base_url,capabilitystatement_path)\n",
    "query.from_config(configs[indice]['config'])\n",
    "query.api_url"
   ]
  },
  {
   "cell_type": "code",
   "execution_count": 39,
   "metadata": {},
   "outputs": [
    {
     "output_type": "execute_result",
     "data": {
      "text/plain": "''"
     },
     "metadata": {},
     "execution_count": 39
    }
   ],
   "source": [
    "configs[indice]['url']"
   ]
  },
  {
   "cell_type": "code",
   "execution_count": 40,
   "metadata": {},
   "outputs": [
    {
     "output_type": "execute_result",
     "data": {
      "text/plain": "''"
     },
     "metadata": {},
     "execution_count": 40
    }
   ],
   "source": [
    "configs[indice]['comment']"
   ]
  },
  {
   "cell_type": "markdown",
   "metadata": {},
   "source": [
    "# Example 9"
   ]
  },
  {
   "cell_type": "code",
   "execution_count": 42,
   "metadata": {},
   "outputs": [],
   "source": [
    "indice = 9"
   ]
  },
  {
   "cell_type": "code",
   "execution_count": 43,
   "metadata": {},
   "outputs": [
    {
     "output_type": "execute_result",
     "data": {
      "text/plain": "'Return the name, gender and date of birth of patients with confirmed moderate fever diagnosed by Dr. M.Doe who are still active'"
     },
     "metadata": {},
     "execution_count": 43
    }
   ],
   "source": [
    "configs[indice]['question']"
   ]
  },
  {
   "cell_type": "code",
   "execution_count": 44,
   "metadata": {},
   "outputs": [
    {
     "output_type": "execute_result",
     "data": {
      "text/plain": "'http://hapi.fhir.org/baseR4/Condition?asserter:Practitioner.active=true&asserter:Practitioner.given=Doe&code=386661006&severity=255604002&verification-status=confirmed&_include=Condition:subject:Patient&_format=json'"
     },
     "metadata": {},
     "execution_count": 44
    }
   ],
   "source": [
    "query = Query(service_base_url,capabilitystatement_path)\n",
    "query.from_config(configs[indice]['config'])\n",
    "query.api_url"
   ]
  },
  {
   "cell_type": "code",
   "execution_count": null,
   "metadata": {},
   "outputs": [],
   "source": []
  }
 ],
 "metadata": {
  "language_info": {
   "codemirror_mode": {
    "name": "ipython",
    "version": 3
   },
   "file_extension": ".py",
   "mimetype": "text/x-python",
   "name": "python",
   "nbconvert_exporter": "python",
   "pygments_lexer": "ipython3",
   "version": "3.7.4-final"
  },
  "orig_nbformat": 2,
  "kernelspec": {
   "name": "python37464bitbaseconda4938c97578ab4f6a8eb3381faca6ed53",
   "display_name": "Python 3.7.4 64-bit ('base': conda)"
  }
 },
 "nbformat": 4,
 "nbformat_minor": 2
}