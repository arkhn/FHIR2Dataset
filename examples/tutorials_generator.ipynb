{
 "cells": [
  {
   "cell_type": "markdown",
   "metadata": {},
   "source": [
    "The purpose of this notebook is to show on the one hand the use of the FHIR2datset module and on the other hand the underlying functionalities of this module."
   ]
  },
  {
   "cell_type": "markdown",
   "metadata": {},
   "source": [
    "# Notebook initialization"
   ]
  },
  {
   "cell_type": "code",
   "execution_count": 2,
   "metadata": {},
   "outputs": [],
   "source": [
    "%load_ext autoreload\n",
    "%autoreload 2"
   ]
  },
  {
   "cell_type": "code",
   "execution_count": 3,
   "metadata": {},
   "outputs": [],
   "source": [
    "import os\n",
    "txt = os.getcwd()\n",
    "txt = txt.split(\"/\")[:-1]\n",
    "parent_path = \"/\".join(txt)\n",
    "os.chdir(parent_path)"
   ]
  },
  {
   "cell_type": "code",
   "execution_count": 4,
   "metadata": {},
   "outputs": [],
   "source": [
    "# os.getcwd()"
   ]
  },
  {
   "cell_type": "code",
   "execution_count": 71,
   "metadata": {},
   "outputs": [],
   "source": [
    "import json\n",
    "import pprint\n",
    "import objectpath\n",
    "import pandas as pd\n",
    "from IPython.display import Markdown as md\n",
    "\n",
    "from src.graph_outils import join_path\n",
    "from src.url_builder import URLBuilder\n",
    "from query import Query"
   ]
  },
  {
   "cell_type": "code",
   "execution_count": 6,
   "metadata": {},
   "outputs": [],
   "source": [
    "pp = pprint.PrettyPrinter(indent=1)\n",
    "fhir_api_url = 'http://hapi.fhir.org/baseR4/'\n",
    "path_rules = 'data'"
   ]
  },
  {
   "cell_type": "markdown",
   "metadata": {},
   "source": [
    "## Loading the example used for the tutorial"
   ]
  },
  {
   "cell_type": "markdown",
   "metadata": {},
   "source": [
    "We will answer this question with the example stored in the following folder:"
   ]
  },
  {
   "cell_type": "code",
   "execution_count": 7,
   "metadata": {},
   "outputs": [],
   "source": [
    "dirname = 'tests/5'"
   ]
  },
  {
   "cell_type": "code",
   "execution_count": 12,
   "metadata": {},
   "outputs": [],
   "source": [
    "filename_config = 'config.json'\n",
    "filename_question = 'question.md'\n",
    "filename_sql_like_query = 'infos_test/sql_like_query.md'\n",
    "\n",
    "with open(os.path.join(dirname, filename_config)) as json_file:\n",
    "    config = json.load(json_file)\n",
    "with open(os.path.join(dirname, filename_question), 'r') as mardown_file:\n",
    "    question= mardown_file.read()\n",
    "with open(os.path.join(dirname, filename_sql_like_query), 'r') as mardown_file:\n",
    "    sql_like_query= mardown_file.read()"
   ]
  },
  {
   "cell_type": "markdown",
   "metadata": {},
   "source": [
    "# What's this module for? "
   ]
  },
  {
   "cell_type": "markdown",
   "metadata": {},
   "source": [
    "The module will make it possible to answer the following question knowing that the searched data are stored in a database provided with an API compliant with the FHIR standard. The data corresponding to the query will be returned in a tabular format, ideal for data analysis."
   ]
  },
  {
   "cell_type": "code",
   "execution_count": 13,
   "metadata": {},
   "outputs": [
    {
     "name": "stdout",
     "output_type": "stream",
     "text": [
      "Get information on Condition, AllergyIntolerance, Patient and Practitioner resources that meet all of the following conditions:\n",
      "\n",
      "* patients were born in 1970 (associated search parameter of the resource Patient : birthdate=1970)\n",
      "* they've been diagnosed allergic to Cashew nuts (associated search parameter of the resource AllergyIntolerance: code=http://snomed.info/sct|227493005)\n",
      "* the source of the information about the allergy is a practioner who lives in france (associated search parameter of the resource Practitioner: address-country=france)\n",
      "* these patients have already had fever (associated search parameter of the resource Condition: code=http://snomed.info/sct|386661006)\n"
     ]
    }
   ],
   "source": [
    "print(question)"
   ]
  },
  {
   "cell_type": "markdown",
   "metadata": {},
   "source": [
    "If you are familiar with SQL queries, the kind of query you would have made would have been as follows:\n",
    "\n",
    "Note: the queries that will be made by this module are not SQL queries, they are in a way more flexible to be integrated with other services thanks to the configuration file."
   ]
  },
  {
   "cell_type": "code",
   "execution_count": 14,
   "metadata": {},
   "outputs": [
    {
     "name": "stdout",
     "output_type": "stream",
     "text": [
      "SELECT patient.name.family, patient.birthDate, practitioner.name.family, practitioner.address, allergy.code.display, condition.code.coding.display, condition.severity.coding.display\n",
      "\n",
      "FROM AllergyIntolerance as allergy\n",
      "INNER JOIN Patient as patient ON allergy.patient.reference = patient.id\n",
      "INNER JOIN Practitioner as practitioner ON allergy.asserter.reference = practitioner.id\n",
      "INNER JOIN Condition as condition ON condition.subject.reference = patient.id\n",
      "\n",
      "WHERE patient.birthdate gt \"1970\"\n",
      "AND allergy.code = \"http://snomed.info/sct|22749300\"\n",
      "AND practitioner.address-city = \"paris\"\n",
      "AND condition.code = \"http://snomed.info/sct|386661006\"\n"
     ]
    }
   ],
   "source": [
    "print(sql_like_query)"
   ]
  },
  {
   "cell_type": "markdown",
   "metadata": {},
   "source": [
    "# How to use this module?"
   ]
  },
  {
   "cell_type": "markdown",
   "metadata": {},
   "source": [
    "### 1. First of all, the elements of the query you want to make must be translated into a json configuration file.\n",
    "\n",
    "The configuration file for the example is therefore:"
   ]
  },
  {
   "cell_type": "code",
   "execution_count": 15,
   "metadata": {},
   "outputs": [
    {
     "name": "stdout",
     "output_type": "stream",
     "text": [
      "{'from': {'allergy': 'AllergyIntolerance',\n",
      "          'condition': 'Condition',\n",
      "          'patient': 'Patient',\n",
      "          'practitioner': 'Practitioner'},\n",
      " 'join': {'allergy': {'asserter': 'practitioner', 'patient': 'patient'},\n",
      "          'condition': {'subject': 'patient'}},\n",
      " 'select': {'allergy': ['code.display'],\n",
      "            'condition': ['code.coding.display', 'severity.coding.display'],\n",
      "            'patient': ['name.family', 'birthDate'],\n",
      "            'practitioner': ['name.family', 'address']},\n",
      " 'where': {'allergy': {'code': 'http://snomed.info/sct|22749300'},\n",
      "           'condition': {'code': 'http://snomed.info/sct|386661006'},\n",
      "           'patient': {'birthdate': {'gt': '1970'}},\n",
      "           'practitioner': {'address-city': 'paris'}}}\n"
     ]
    }
   ],
   "source": [
    "pp.pprint(config)"
   ]
  },
  {
   "cell_type": "code",
   "execution_count": 16,
   "metadata": {
    "tags": [
     "hide"
    ]
   },
   "outputs": [
    {
     "data": {
      "text/markdown": [
       "a. The information contained in the **'from'** allows you to specify the **FHIR type of resource** associated with each alias.<br><br>For example, here the alias **allergy** is a FHIR resource of type **AllergyIntolerance** whose corresponding documentation can be found at the following link: [https://www.hl7.org/fhir/allergyintolerance.html](https://www.hl7.org/fhir/allergyintolerance.html)"
      ],
      "text/plain": [
       "<IPython.core.display.Markdown object>"
      ]
     },
     "execution_count": 16,
     "metadata": {},
     "output_type": "execute_result"
    }
   ],
   "source": [
    "# READ OUTPUT\n",
    "alias = list(config['from'].keys())[0]\n",
    "resource_type = config['from'][alias]\n",
    "url_fhir_doc = f\"https://www.hl7.org/fhir/{resource_type.lower()}.html\"\n",
    "md(\n",
    "    f\"a. The information contained in the **'from'** allows you to specify the **FHIR type of resource** \"\n",
    "    f\"associated with each alias.<br><br>\"\n",
    "    f\"For example, here the alias **{alias}** is a FHIR resource \"\n",
    "    f\"of type **{resource_type}** whose corresponding documentation can be found at the following link: [{url_fhir_doc}]({url_fhir_doc})\"\n",
    ")"
   ]
  },
  {
   "cell_type": "code",
   "execution_count": 17,
   "metadata": {
    "tags": [
     "hide"
    ]
   },
   "outputs": [
    {
     "data": {
      "text/markdown": [
       "b. The information contained in the **'join'** allows you to specify **how the aliases are linked together**.<br><br>Joins are of the parent-child type, i.e. in a resource instance of the parent type there is a [reference](https://www.hl7.org/fhir/references.html#Reference) to an instance of the child resource type. This will result in the following structure in the configuration file:<br><br>{'alias linked to a parent-type resource': {'expression leading to a Reference type data in the json of an occurrence of a FHIR resource of the parent type': 'alias linked to a child-type resource'}}<br><br>Example ([FHIR doc associated](https://www.hl7.org/fhir/condition.html#resource)):<br>{'condition': {'subject': 'patient'}}<br><br>Note: each alias must at least be linked to another alias."
      ],
      "text/plain": [
       "<IPython.core.display.Markdown object>"
      ]
     },
     "execution_count": 17,
     "metadata": {},
     "output_type": "execute_result"
    }
   ],
   "source": [
    "# READ OUTPUT\n",
    "data = {\n",
    "    'alias linked to a parent-type resource':\n",
    "    {'expression leading to a Reference type data in the json of an occurrence of a FHIR resource of the parent type': 'alias linked to a child-type resource'}}\n",
    "\n",
    "parent_alias = list(config['join'].keys())[0]\n",
    "expression = list(config['join'][parent_alias].keys())[0]\n",
    "child_alias = config['join'][parent_alias][expression]\n",
    "data_example = { parent_alias: {expression: child_alias}}\n",
    "\n",
    "url_fhir_doc=f\"https://www.hl7.org/fhir/{parent_alias.lower()}.html#resource\"\n",
    "md(\n",
    "    f\"b. The information contained in the **'join'** allows you to specify \"\n",
    "    f\"**how the aliases are linked together**.<br><br>\"\n",
    "    f\"Joins are of the parent-child type, i.e. in a resource instance of the \"\n",
    "    f\"parent type there is a [reference](https://www.hl7.org/fhir/references.html#Reference) to an instance of the child resource type. \"\n",
    "    f\"This will result in the following structure in the configuration file:<br><br>\"\n",
    "    f\"{data}<br><br>\"\n",
    "    f\"Example ([FHIR doc associated]({url_fhir_doc})):<br>\"\n",
    "    f\"{data_example}<br><br>\"\n",
    "    f\"Note: each alias must at least be linked to another alias.\"\n",
    ")"
   ]
  },
  {
   "cell_type": "code",
   "execution_count": 25,
   "metadata": {
    "tags": [
     "hide"
    ]
   },
   "outputs": [
    {
     "data": {
      "text/markdown": [
       "c. The information contained in the **'where'** allows you to specify the **conditions on the search parameters**.<br><br>For example, the search parameters that the alias patient can have are specified [here](https://www.hl7.org/fhir/patient.html#search) in the FHIR doc.This will result in the following structure in the configuration file:<br>{'alias': {'search param': {'prefix': 'value'}}}<br><br>The prefixes that can be used are those specified [here](https://www.hl7.org/fhir/search.html#prefix) in the FHIR doc.It is also possible to use a simplified structure that assumes that the prefix used is eq:<br>{'alias': {'search param': 'value'}}<br><br>"
      ],
      "text/plain": [
       "<IPython.core.display.Markdown object>"
      ]
     },
     "execution_count": 25,
     "metadata": {},
     "output_type": "execute_result"
    }
   ],
   "source": [
    "# READ OUTPUT\n",
    "alias = list(config['where'].keys())[0]\n",
    "url_fhir_doc=f\"https://www.hl7.org/fhir/{alias.lower()}.html#search\"\n",
    "\n",
    "data = {\n",
    "    'alias': {'search param': {'prefix': 'value'}}\n",
    "}\n",
    "data_default = {\n",
    "    'alias': {'search param': 'value'}\n",
    "}\n",
    "md(\n",
    "    f\"c. The information contained in the **'where'** allows you to specify the **conditions \"\n",
    "    f\"on the search parameters**.<br><br>\"\n",
    "    f\"For example, the search parameters that the alias {alias} can have are specified \"\n",
    "    f\"[here]({url_fhir_doc}) in the FHIR doc.\"\n",
    "    f\"This will result in the following structure in the configuration file:<br>\"\n",
    "    f\"{data}<br><br>\"\n",
    "    f\"The prefixes that can be used are those specified [here](https://www.hl7.org/fhir/search.html#prefix) in the FHIR doc.\"\n",
    "    f\"It is also possible to use a simplified structure that assumes that the prefix used is eq:<br>\"\n",
    "    f\"{data_default}<br><br>\"\n",
    ")"
   ]
  },
  {
   "cell_type": "code",
   "execution_count": 19,
   "metadata": {
    "tags": [
     "hide"
    ]
   },
   "outputs": [
    {
     "data": {
      "text/markdown": [
       "d. The information contained in the **'select'** allows you to specify the elements that must be present in the output table.<br><br>For example, for the instances corresponding to the alias patient it will be necessary to retrieve the information in the JSON contained after the expression(s) ['name.family', 'birthDate']. It can be observed that these expressions correspond well to the FHIR specifications of the associated [Patient resource](url_fhir_doc)."
      ],
      "text/plain": [
       "<IPython.core.display.Markdown object>"
      ]
     },
     "execution_count": 19,
     "metadata": {},
     "output_type": "execute_result"
    }
   ],
   "source": [
    "# READ OUTPUT\n",
    "alias = None\n",
    "expressions = None\n",
    "url_fhir_doc = None\n",
    "resource = None\n",
    "for key in config['select'].keys():\n",
    "    if key != 'count':\n",
    "        alias = key\n",
    "        expressions = config['select'][key]\n",
    "        resource = config['from'][key]\n",
    "        url_fhir_doc = f\"https://www.hl7.org/fhir/{resource.lower()}.html#resource\"\n",
    "        break\n",
    "md(\n",
    "    f\"d. The information contained in the **'select'** allows you to specify the elements that \"\n",
    "    f\"must be present in the output table.<br><br>\"\n",
    "    f\"For example, for the instances corresponding to the alias {alias} it will be necessary to \"\n",
    "    f\"retrieve the information in the JSON contained after the expression(s) {expressions}. \"\n",
    "    f\"It can be observed that these expressions correspond well to the FHIR specifications of \"\n",
    "    f\"the associated [{resource} resource](url_fhir_doc).\"\n",
    ")"
   ]
  },
  {
   "cell_type": "markdown",
   "metadata": {},
   "source": [
    "### 2. Initilize an instance of the **Query class**"
   ]
  },
  {
   "cell_type": "markdown",
   "metadata": {},
   "source": [
    "3 things are needed to initialize this instance:\n",
    "* fhir_api_url: the Service Base URL (e.g. [http://hapi.fhir.org/baseR4/](http://hapi.fhir.org/baseR4/))\n",
    "* path_rules : the path to the folder containing the CapabilityStatement and SearchParameters file (a future feature may allow these documents to be loaded directly on the api)\n",
    "* config : a json file in the previously described format"
   ]
  },
  {
   "cell_type": "code",
   "execution_count": 20,
   "metadata": {},
   "outputs": [],
   "source": [
    "query = Query(fhir_api_url, path_rules)\n",
    "query.from_config(config)"
   ]
  },
  {
   "cell_type": "markdown",
   "metadata": {},
   "source": [
    "### 3. Request the execution of the query"
   ]
  },
  {
   "cell_type": "code",
   "execution_count": 21,
   "metadata": {},
   "outputs": [],
   "source": [
    "query.execute()"
   ]
  },
  {
   "cell_type": "markdown",
   "metadata": {},
   "source": [
    "#### What does this function do?"
   ]
  },
  {
   "cell_type": "markdown",
   "metadata": {},
   "source": [
    "##### 3.1 Storing info from the config file in a graph"
   ]
  },
  {
   "cell_type": "markdown",
   "metadata": {},
   "source": [
    "Below we can see a visualization of the relationships that have been established between the aliases."
   ]
  },
  {
   "cell_type": "code",
   "execution_count": 27,
   "metadata": {},
   "outputs": [
    {
     "data": {
      "image/png": "[encoded data removed]",
      "text/plain": [
       "<Figure size 1080x1080 with 1 Axes>"
      ]
     },
     "metadata": {},
     "output_type": "display_data"
    }
   ],
   "source": [
    "query.graph_query.draw_relations()"
   ]
  },
  {
   "cell_type": "code",
   "execution_count": 57,
   "metadata": {
    "tags": [
     "hide"
    ]
   },
   "outputs": [
    {
     "data": {
      "text/markdown": [
       "Each edge contains a lot of information. We will illustrate this by the content of the edge between **allergy** and **patient**.<br> - the alias of the **parent** resource: *allergy*<br> - the alias of the **child** resource: *patient*<br> - the **expression** in an instance of *allergy* resource-type which must indicate a reference identical to the id of *patient* resource-type: *patient.reference*<br> - the **prefix** that must be added **in front of a param search** in the url of a query sent to a FHIR API if the request is made from an *allergy* resource-type but the search parameter relates to a *patient* resource-type : *patient:Patient.*<br> - also the reverse **prefix** from a *patient* resource-type to a *allergy* resource-type : *_has:AllergyIntolerance:patient:*<br>the other information is not useful for the moment"
      ],
      "text/plain": [
       "<IPython.core.display.Markdown object>"
      ]
     },
     "execution_count": 57,
     "metadata": {},
     "output_type": "execute_result"
    }
   ],
   "source": [
    "edge = list(query.graph_query.resources_alias_graph.edges)[0]\n",
    "edge_info = query.graph_query.resources_alias_graph.edges[edge]\n",
    "\n",
    "md(\n",
    "    f\"Each edge contains a lot of information. We will illustrate this by the content of the edge between **{edge[0]}** and **{edge[1]}**.<br>\"\n",
    "    f\" - the alias of the **parent** resource: *{edge_info['parent']}*<br>\"\n",
    "    f\" - the alias of the **child** resource: *{edge_info['child']}*<br>\"\n",
    "    f\" - the **expression** in an instance of *{edge_info['parent']}* resource-type which must indicate a reference identical to the id of *{edge_info['child']}* resource-type: *{edge_info['element_join']}*<br>\"\n",
    "    f\" - the **prefix** that must be added **in front of a param search** in the url of a query sent to a FHIR API if the request is made from an *{edge[0]}* resource-type but the search parameter relates to a *{edge[1]}* resource-type : \"\n",
    "    f\"*{edge_info[edge[0]]['searchparam_prefix']}*<br>\"\n",
    "    f\" - also the reverse **prefix** from a *{edge[1]}* resource-type to a *{edge[0]}* resource-type : \"\n",
    "    f\"*{edge_info[edge[1]]['searchparam_prefix']}*<br>\"\n",
    "    \"the other information is not useful for the moment\"\n",
    ")"
   ]
  },
  {
   "cell_type": "markdown",
   "metadata": {},
   "source": [
    "Each node also contains several pieces of information. This information can be found in the dictionary: *query.graph_query.resources_alias_info*"
   ]
  },
  {
   "cell_type": "code",
   "execution_count": 68,
   "metadata": {},
   "outputs": [
    {
     "name": "stdout",
     "output_type": "stream",
     "text": [
      "{'allergy': {'count': False,\n",
      "             'elements': {'aditionnal_ressource': ['id'],\n",
      "                          'aditionnal_root': [],\n",
      "                          'join': ['patient.reference', 'asserter.reference'],\n",
      "                          'select': ['code.display'],\n",
      "                          'where': ['reaction.substance']},\n",
      "             'resource_type': 'AllergyIntolerance',\n",
      "             'search_parameters': {'code': {'prefix': None,\n",
      "                                            'value': 'http://snomed.info/sct|22749300'}}},\n",
      " 'condition': {'count': False,\n",
      "               'elements': {'aditionnal_ressource': ['id'],\n",
      "                            'aditionnal_root': [],\n",
      "                            'join': ['subject.reference'],\n",
      "                            'select': ['code.coding.display',\n",
      "                                       'severity.coding.display'],\n",
      "                            'where': ['code']},\n",
      "               'resource_type': 'Condition',\n",
      "               'search_parameters': {'code': {'prefix': None,\n",
      "                                              'value': 'http://snomed.info/sct|386661006'}}},\n",
      " 'patient': {'count': False,\n",
      "             'elements': {'aditionnal_ressource': ['id'],\n",
      "                          'aditionnal_root': [],\n",
      "                          'join': [],\n",
      "                          'select': ['name.family', 'birthDate'],\n",
      "                          'where': ['birthDate']},\n",
      "             'resource_type': 'Patient',\n",
      "             'search_parameters': {'birthdate': {'prefix': 'gt',\n",
      "                                                 'value': '1970'}}},\n",
      " 'practitioner': {'count': False,\n",
      "                  'elements': {'aditionnal_ressource': ['id'],\n",
      "                               'aditionnal_root': [],\n",
      "                               'join': [],\n",
      "                               'select': ['name.family', 'address'],\n",
      "                               'where': ['address.city']},\n",
      "                  'resource_type': 'Practitioner',\n",
      "                  'search_parameters': {'address-city': {'prefix': None,\n",
      "                                                         'value': 'paris'}}}}\n"
     ]
    }
   ],
   "source": [
    "pp.pprint(query.graph_query.resources_alias_info)"
   ]
  },
  {
   "cell_type": "code",
   "execution_count": 69,
   "metadata": {
    "tags": [
     "hide"
    ]
   },
   "outputs": [
    {
     "data": {
      "text/markdown": [
       "For example, node *allergy* contains the following information: <br> - the **type of the associated resource**: *AllergyIntolerance*<br> - the **expressions leading to the elements** to be retrieved in the json format of the instances corresponding to the query: *{'select': ['code.display'], 'aditionnal_ressource': ['id'], 'aditionnal_root': [], 'where': ['reaction.substance'], 'join': ['patient.reference', 'asserter.reference']}*<br> - the **search parameters under constraints** for this alias: *{'code': {'prefix': None, 'value': 'http://snomed.info/sct|22749300'}}*<br>"
      ],
      "text/plain": [
       "<IPython.core.display.Markdown object>"
      ]
     },
     "execution_count": 69,
     "metadata": {},
     "output_type": "execute_result"
    }
   ],
   "source": [
    "node = list(query.graph_query.resources_alias_info.keys())[0]\n",
    "node_info = query.graph_query.resources_alias_info[node]\n",
    "md(\n",
    "    f\"For example, node *{node}* contains the following information: <br>\"\n",
    "    f\" - the **type of the associated resource**: *{node_info['resource_type']}*<br>\"\n",
    "    f\" - the **expressions leading to the elements** to be retrieved in the json format of the instances corresponding to the query: *{node_info['elements']}*<br>\"\n",
    "    f\" - the **search parameters under constraints** for this alias: *{node_info['search_parameters']}*<br>\"\n",
    ")"
   ]
  },
  {
   "cell_type": "markdown",
   "metadata": {},
   "source": [
    "##### 3.2 Making calls to the api for each node of the graph"
   ]
  },
  {
   "cell_type": "code",
   "execution_count": 72,
   "metadata": {},
   "outputs": [],
   "source": [
    "resource_alias = list(query.graph_query.resources_alias_info.keys())[0]"
   ]
  },
  {
   "cell_type": "code",
   "execution_count": 81,
   "metadata": {
    "tags": [
     "hide"
    ]
   },
   "outputs": [
    {
     "name": "stdout",
     "output_type": "stream",
     "text": [
      "The url queries that are made for each nodes are:\n",
      " - for allergy node is http://hapi.fhir.org/baseR4/AllergyIntolerance?code=http://snomed.info/sct|22749300&patient:Patient.birthdate=gt1970&asserter:Practitioner.address-city=paris&_format=json\n",
      " - for patient node is http://hapi.fhir.org/baseR4/Patient?_has:AllergyIntolerance:patient:code=http://snomed.info/sct|22749300&birthdate=gt1970&_has:Condition:subject:code=http://snomed.info/sct|386661006&_format=json\n",
      " - for practitioner node is http://hapi.fhir.org/baseR4/Practitioner?_has:AllergyIntolerance:asserter:code=http://snomed.info/sct|22749300&address-city=paris&_format=json\n",
      " - for condition node is http://hapi.fhir.org/baseR4/Condition?subject:Patient.birthdate=gt1970&code=http://snomed.info/sct|386661006&_format=json\n"
     ]
    }
   ],
   "source": [
    "print(f\"The url queries that are made for each nodes are:\")\n",
    "for resource_alias in query.graph_query.resources_alias_info.keys():\n",
    "    url_builder = URLBuilder(\n",
    "                    fhir_api_url=fhir_api_url,\n",
    "                    query_graph=query.graph_query,\n",
    "                    main_resource_alias=resource_alias,\n",
    "                )\n",
    "    print(f\" - for {resource_alias} node is {url_builder.search_query_url}\")"
   ]
  },
  {
   "cell_type": "markdown",
   "metadata": {},
   "source": [
    "##### 3.3 Storing query results in multiple dataframes (1 dataframe per alias)"
   ]
  },
  {
   "cell_type": "code",
   "execution_count": 70,
   "metadata": {},
   "outputs": [
    {
     "data": {
      "text/html": [
       "<div>\n",
       "<style scoped>\n",
       "    .dataframe tbody tr th:only-of-type {\n",
       "        vertical-align: middle;\n",
       "    }\n",
       "\n",
       "    .dataframe tbody tr th {\n",
       "        vertical-align: top;\n",
       "    }\n",
       "\n",
       "    .dataframe thead th {\n",
       "        text-align: right;\n",
       "    }\n",
       "</style>\n",
       "<table border=\"1\" class=\"dataframe\">\n",
       "  <thead>\n",
       "    <tr style=\"text-align: right;\">\n",
       "      <th></th>\n",
       "      <th>allergy:id</th>\n",
       "      <th>allergy:code.display</th>\n",
       "      <th>allergy:reaction.substance</th>\n",
       "      <th>allergy:patient.reference</th>\n",
       "      <th>allergy:asserter.reference</th>\n",
       "    </tr>\n",
       "  </thead>\n",
       "  <tbody>\n",
       "    <tr>\n",
       "      <th>0</th>\n",
       "      <td>AllergyIntolerance/frt4</td>\n",
       "      <td>None</td>\n",
       "      <td>[{'coding': [{'system': 'http://www.nlm.nih.go...</td>\n",
       "      <td>Patient/frt2</td>\n",
       "      <td>Practitioner/frt1</td>\n",
       "    </tr>\n",
       "  </tbody>\n",
       "</table>\n",
       "</div>"
      ],
      "text/plain": [
       "                allergy:id allergy:code.display  \\\n",
       "0  AllergyIntolerance/frt4                 None   \n",
       "\n",
       "                          allergy:reaction.substance  \\\n",
       "0  [{'coding': [{'system': 'http://www.nlm.nih.go...   \n",
       "\n",
       "  allergy:patient.reference allergy:asserter.reference  \n",
       "0              Patient/frt2          Practitioner/frt1  "
      ]
     },
     "metadata": {},
     "output_type": "display_data"
    },
    {
     "data": {
      "text/html": [
       "<div>\n",
       "<style scoped>\n",
       "    .dataframe tbody tr th:only-of-type {\n",
       "        vertical-align: middle;\n",
       "    }\n",
       "\n",
       "    .dataframe tbody tr th {\n",
       "        vertical-align: top;\n",
       "    }\n",
       "\n",
       "    .dataframe thead th {\n",
       "        text-align: right;\n",
       "    }\n",
       "</style>\n",
       "<table border=\"1\" class=\"dataframe\">\n",
       "  <thead>\n",
       "    <tr style=\"text-align: right;\">\n",
       "      <th></th>\n",
       "      <th>patient:id</th>\n",
       "      <th>patient:name.family</th>\n",
       "      <th>patient:birthDate</th>\n",
       "    </tr>\n",
       "  </thead>\n",
       "  <tbody>\n",
       "    <tr>\n",
       "      <th>0</th>\n",
       "      <td>Patient/frt2</td>\n",
       "      <td>[Smith]</td>\n",
       "      <td>1976-01-01</td>\n",
       "    </tr>\n",
       "  </tbody>\n",
       "</table>\n",
       "</div>"
      ],
      "text/plain": [
       "     patient:id patient:name.family patient:birthDate\n",
       "0  Patient/frt2             [Smith]        1976-01-01"
      ]
     },
     "metadata": {},
     "output_type": "display_data"
    },
    {
     "data": {
      "text/html": [
       "<div>\n",
       "<style scoped>\n",
       "    .dataframe tbody tr th:only-of-type {\n",
       "        vertical-align: middle;\n",
       "    }\n",
       "\n",
       "    .dataframe tbody tr th {\n",
       "        vertical-align: top;\n",
       "    }\n",
       "\n",
       "    .dataframe thead th {\n",
       "        text-align: right;\n",
       "    }\n",
       "</style>\n",
       "<table border=\"1\" class=\"dataframe\">\n",
       "  <thead>\n",
       "    <tr style=\"text-align: right;\">\n",
       "      <th></th>\n",
       "      <th>practitioner:id</th>\n",
       "      <th>practitioner:name.family</th>\n",
       "      <th>practitioner:address</th>\n",
       "      <th>practitioner:address.city</th>\n",
       "    </tr>\n",
       "  </thead>\n",
       "  <tbody>\n",
       "    <tr>\n",
       "      <th>0</th>\n",
       "      <td>Practitioner/frt1</td>\n",
       "      <td>[Careful]</td>\n",
       "      <td>[{'use': 'home', 'line': ['1 blv st michel'], ...</td>\n",
       "      <td>[Paris]</td>\n",
       "    </tr>\n",
       "  </tbody>\n",
       "</table>\n",
       "</div>"
      ],
      "text/plain": [
       "     practitioner:id practitioner:name.family  \\\n",
       "0  Practitioner/frt1                [Careful]   \n",
       "\n",
       "                                practitioner:address practitioner:address.city  \n",
       "0  [{'use': 'home', 'line': ['1 blv st michel'], ...                   [Paris]  "
      ]
     },
     "metadata": {},
     "output_type": "display_data"
    },
    {
     "data": {
      "text/html": [
       "<div>\n",
       "<style scoped>\n",
       "    .dataframe tbody tr th:only-of-type {\n",
       "        vertical-align: middle;\n",
       "    }\n",
       "\n",
       "    .dataframe tbody tr th {\n",
       "        vertical-align: top;\n",
       "    }\n",
       "\n",
       "    .dataframe thead th {\n",
       "        text-align: right;\n",
       "    }\n",
       "</style>\n",
       "<table border=\"1\" class=\"dataframe\">\n",
       "  <thead>\n",
       "    <tr style=\"text-align: right;\">\n",
       "      <th></th>\n",
       "      <th>condition:id</th>\n",
       "      <th>condition:code.coding.display</th>\n",
       "      <th>condition:severity.coding.display</th>\n",
       "      <th>condition:code</th>\n",
       "      <th>condition:subject.reference</th>\n",
       "    </tr>\n",
       "  </thead>\n",
       "  <tbody>\n",
       "    <tr>\n",
       "      <th>0</th>\n",
       "      <td>Condition/39393</td>\n",
       "      <td>[Fever]</td>\n",
       "      <td>[Mild]</td>\n",
       "      <td>{'coding': [{'system': 'http://snomed.info/sct...</td>\n",
       "      <td>Patient/1202</td>\n",
       "    </tr>\n",
       "    <tr>\n",
       "      <th>1</th>\n",
       "      <td>Condition/39734</td>\n",
       "      <td>[Fever]</td>\n",
       "      <td>[Mild]</td>\n",
       "      <td>{'coding': [{'system': 'http://snomed.info/sct...</td>\n",
       "      <td>Patient/1202</td>\n",
       "    </tr>\n",
       "    <tr>\n",
       "      <th>2</th>\n",
       "      <td>Condition/39735</td>\n",
       "      <td>[Fever]</td>\n",
       "      <td>[Mild]</td>\n",
       "      <td>{'coding': [{'system': 'http://snomed.info/sct...</td>\n",
       "      <td>Patient/1200</td>\n",
       "    </tr>\n",
       "    <tr>\n",
       "      <th>3</th>\n",
       "      <td>Condition/5e8ad8fa-df00-4e53-ae27-567c9cd84263</td>\n",
       "      <td>[Fever (finding)]</td>\n",
       "      <td>None</td>\n",
       "      <td>{'coding': [{'system': 'http://snomed.info/sct...</td>\n",
       "      <td>Patient/1b0580b9-1ee3-4353-b555-64c797d57564</td>\n",
       "    </tr>\n",
       "    <tr>\n",
       "      <th>4</th>\n",
       "      <td>Condition/1ddef4ad-fb76-46d6-9f1d-8ed58b173ee8</td>\n",
       "      <td>[Fever (finding)]</td>\n",
       "      <td>None</td>\n",
       "      <td>{'coding': [{'system': 'http://snomed.info/sct...</td>\n",
       "      <td>Patient/0c4a1143-8d1c-42ed-b509-eac97d77c9b2</td>\n",
       "    </tr>\n",
       "  </tbody>\n",
       "</table>\n",
       "</div>"
      ],
      "text/plain": [
       "                                     condition:id  \\\n",
       "0                                 Condition/39393   \n",
       "1                                 Condition/39734   \n",
       "2                                 Condition/39735   \n",
       "3  Condition/5e8ad8fa-df00-4e53-ae27-567c9cd84263   \n",
       "4  Condition/1ddef4ad-fb76-46d6-9f1d-8ed58b173ee8   \n",
       "\n",
       "  condition:code.coding.display condition:severity.coding.display  \\\n",
       "0                       [Fever]                            [Mild]   \n",
       "1                       [Fever]                            [Mild]   \n",
       "2                       [Fever]                            [Mild]   \n",
       "3             [Fever (finding)]                              None   \n",
       "4             [Fever (finding)]                              None   \n",
       "\n",
       "                                      condition:code  \\\n",
       "0  {'coding': [{'system': 'http://snomed.info/sct...   \n",
       "1  {'coding': [{'system': 'http://snomed.info/sct...   \n",
       "2  {'coding': [{'system': 'http://snomed.info/sct...   \n",
       "3  {'coding': [{'system': 'http://snomed.info/sct...   \n",
       "4  {'coding': [{'system': 'http://snomed.info/sct...   \n",
       "\n",
       "                    condition:subject.reference  \n",
       "0                                  Patient/1202  \n",
       "1                                  Patient/1202  \n",
       "2                                  Patient/1200  \n",
       "3  Patient/1b0580b9-1ee3-4353-b555-64c797d57564  \n",
       "4  Patient/0c4a1143-8d1c-42ed-b509-eac97d77c9b2  "
      ]
     },
     "metadata": {},
     "output_type": "display_data"
    }
   ],
   "source": [
    "for _,df in query.dataframes.items():\n",
    "    display(df.head(5))"
   ]
  },
  {
   "cell_type": "markdown",
   "metadata": {},
   "source": [
    "##### 3.4 Joining the dataframes by following an eulerian path in the graph"
   ]
  },
  {
   "cell_type": "markdown",
   "metadata": {},
   "source": [
    "The dataframes of each alias will be linked in the following order.\n",
    "This order corresponds to a Eulerian path in the query graph and thus guarantees that joins between the main dataframe (left alias) and the new dataframe (right alias) will be possible."
   ]
  },
  {
   "cell_type": "code",
   "execution_count": 85,
   "metadata": {},
   "outputs": [
    {
     "name": "stdout",
     "output_type": "stream",
     "text": [
      "[('allergy', 'practitioner'), ('allergy', 'patient'), ('patient', 'condition')]\n"
     ]
    }
   ],
   "source": [
    "pp.pprint(join_path(query.graph_query.resources_alias_graph))"
   ]
  },
  {
   "cell_type": "markdown",
   "metadata": {},
   "source": [
    "### Display the result of the query"
   ]
  },
  {
   "cell_type": "code",
   "execution_count": 23,
   "metadata": {},
   "outputs": [
    {
     "data": {
      "text/html": [
       "<div>\n",
       "<style scoped>\n",
       "    .dataframe tbody tr th:only-of-type {\n",
       "        vertical-align: middle;\n",
       "    }\n",
       "\n",
       "    .dataframe tbody tr th {\n",
       "        vertical-align: top;\n",
       "    }\n",
       "\n",
       "    .dataframe thead th {\n",
       "        text-align: right;\n",
       "    }\n",
       "</style>\n",
       "<table border=\"1\" class=\"dataframe\">\n",
       "  <thead>\n",
       "    <tr style=\"text-align: right;\">\n",
       "      <th></th>\n",
       "      <th>allergy:id</th>\n",
       "      <th>allergy:code.display</th>\n",
       "      <th>allergy:reaction.substance</th>\n",
       "      <th>allergy:patient.reference</th>\n",
       "      <th>allergy:asserter.reference</th>\n",
       "      <th>practitioner:id</th>\n",
       "      <th>practitioner:name.family</th>\n",
       "      <th>practitioner:address</th>\n",
       "      <th>practitioner:address.city</th>\n",
       "      <th>patient:id</th>\n",
       "      <th>patient:name.family</th>\n",
       "      <th>patient:birthDate</th>\n",
       "      <th>condition:id</th>\n",
       "      <th>condition:code.coding.display</th>\n",
       "      <th>condition:severity.coding.display</th>\n",
       "      <th>condition:code</th>\n",
       "      <th>condition:subject.reference</th>\n",
       "    </tr>\n",
       "  </thead>\n",
       "  <tbody>\n",
       "    <tr>\n",
       "      <th>0</th>\n",
       "      <td>AllergyIntolerance/frt4</td>\n",
       "      <td>None</td>\n",
       "      <td>[{'coding': [{'system': 'http://www.nlm.nih.go...</td>\n",
       "      <td>Patient/frt2</td>\n",
       "      <td>Practitioner/frt1</td>\n",
       "      <td>Practitioner/frt1</td>\n",
       "      <td>[Careful]</td>\n",
       "      <td>[{'use': 'home', 'line': ['1 blv st michel'], ...</td>\n",
       "      <td>[Paris]</td>\n",
       "      <td>Patient/frt2</td>\n",
       "      <td>[Smith]</td>\n",
       "      <td>1976-01-01</td>\n",
       "      <td>Condition/frt3</td>\n",
       "      <td>[Cashew nuts]</td>\n",
       "      <td>[Mild]</td>\n",
       "      <td>{'coding': [{'system': 'http://snomed.info/sct...</td>\n",
       "      <td>Patient/frt2</td>\n",
       "    </tr>\n",
       "  </tbody>\n",
       "</table>\n",
       "</div>"
      ],
      "text/plain": [
       "                allergy:id allergy:code.display  \\\n",
       "0  AllergyIntolerance/frt4                 None   \n",
       "\n",
       "                          allergy:reaction.substance  \\\n",
       "0  [{'coding': [{'system': 'http://www.nlm.nih.go...   \n",
       "\n",
       "  allergy:patient.reference allergy:asserter.reference    practitioner:id  \\\n",
       "0              Patient/frt2          Practitioner/frt1  Practitioner/frt1   \n",
       "\n",
       "  practitioner:name.family                               practitioner:address  \\\n",
       "0                [Careful]  [{'use': 'home', 'line': ['1 blv st michel'], ...   \n",
       "\n",
       "  practitioner:address.city    patient:id patient:name.family  \\\n",
       "0                   [Paris]  Patient/frt2             [Smith]   \n",
       "\n",
       "  patient:birthDate    condition:id condition:code.coding.display  \\\n",
       "0        1976-01-01  Condition/frt3                 [Cashew nuts]   \n",
       "\n",
       "  condition:severity.coding.display  \\\n",
       "0                            [Mild]   \n",
       "\n",
       "                                      condition:code  \\\n",
       "0  {'coding': [{'system': 'http://snomed.info/sct...   \n",
       "\n",
       "  condition:subject.reference  \n",
       "0                Patient/frt2  "
      ]
     },
     "execution_count": 23,
     "metadata": {},
     "output_type": "execute_result"
    }
   ],
   "source": [
    "df = query.main_dataframe\n",
    "df"
   ]
  }
 ],
 "metadata": {
  "kernelspec": {
   "display_name": "Python 3.8.2 64-bit ('fhir2dataset': conda)",
   "language": "python",
   "name": "python38264bitfhir2datasetconda324d6ab2aa744b6e8cb9c93afe0fcc00"
  },
  "language_info": {
   "codemirror_mode": {
    "name": "ipython",
    "version": 3
   },
   "file_extension": ".py",
   "mimetype": "text/x-python",
   "name": "python",
   "nbconvert_exporter": "python",
   "pygments_lexer": "ipython3",
   "version": "3.8.2"
  }
 },
 "nbformat": 4,
 "nbformat_minor": 4
}
